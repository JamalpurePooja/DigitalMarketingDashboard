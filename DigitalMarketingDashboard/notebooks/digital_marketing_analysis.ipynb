{
 "cells": [
  {
   "cell_type": "code",
   "execution_count": 1,
   "id": "743fb631-da0f-4dcd-a309-85961f6bcd14",
   "metadata": {},
   "outputs": [],
   "source": [
    "#importing libraries\n",
    "import pandas as pd"
   ]
  },
  {
   "cell_type": "code",
   "execution_count": 2,
   "id": "b97b1e3c-e75c-4302-b664-fa9c5efa84bc",
   "metadata": {},
   "outputs": [
    {
     "name": "stdout",
     "output_type": "stream",
     "text": [
      "Available Sheets:\n",
      "['Data', 'Impression Cost', 'Click Cost', 'Sales Target', 'Ad Budget']\n"
     ]
    }
   ],
   "source": [
    "# Set path to your Excel file\n",
    "file_path = 'C:/Users/admin/OneDrive/Desktop/DigitalMarketingDashboard/data/digital_marketing_dataset.xlsx'\n",
    "\n",
    "# Load workbook and print sheet names\n",
    "xls = pd.ExcelFile(file_path)\n",
    "print(\"Available Sheets:\")\n",
    "print(xls.sheet_names)"
   ]
  },
  {
   "cell_type": "code",
   "execution_count": 3,
   "id": "3d5a3a5b-40c5-4cef-ab3f-4ab9d835c90e",
   "metadata": {},
   "outputs": [],
   "source": [
    "# Loading each sheet\n",
    "data = pd.read_excel(file_path, sheet_name='Data')\n",
    "impression_cost = pd.read_excel(file_path, sheet_name='Impression Cost')\n",
    "click_cost = pd.read_excel(file_path, sheet_name='Click Cost')\n",
    "sales_target = pd.read_excel(file_path, sheet_name='Sales Target')\n",
    "ad_budget = pd.read_excel(file_path, sheet_name='Ad Budget')"
   ]
  },
  {
   "cell_type": "code",
   "execution_count": 4,
   "id": "d3528865-cf38-41b9-8569-d96369e7efd2",
   "metadata": {},
   "outputs": [
    {
     "data": {
      "text/html": [
       "<div>\n",
       "<style scoped>\n",
       "    .dataframe tbody tr th:only-of-type {\n",
       "        vertical-align: middle;\n",
       "    }\n",
       "\n",
       "    .dataframe tbody tr th {\n",
       "        vertical-align: top;\n",
       "    }\n",
       "\n",
       "    .dataframe thead th {\n",
       "        text-align: right;\n",
       "    }\n",
       "</style>\n",
       "<table border=\"1\" class=\"dataframe\">\n",
       "  <thead>\n",
       "    <tr style=\"text-align: right;\">\n",
       "      <th></th>\n",
       "      <th>Date</th>\n",
       "      <th>Month</th>\n",
       "      <th>Year</th>\n",
       "      <th>Ad Campaign</th>\n",
       "      <th>Display ads</th>\n",
       "      <th>Overlay ads</th>\n",
       "      <th>Skippable ads</th>\n",
       "      <th>Non-skippable ads</th>\n",
       "      <th>Bumper ads</th>\n",
       "      <th>Platform</th>\n",
       "      <th>Avg Pages Visited</th>\n",
       "      <th>AVG Time on Site (mins)</th>\n",
       "      <th>Impressions</th>\n",
       "      <th>Clicks</th>\n",
       "      <th>Conversions</th>\n",
       "      <th>Quantity Sold</th>\n",
       "      <th>Unit Cost Price</th>\n",
       "      <th>Unit Sale Price</th>\n",
       "      <th>Final Cost Price</th>\n",
       "      <th>Final Sale Price</th>\n",
       "    </tr>\n",
       "  </thead>\n",
       "  <tbody>\n",
       "    <tr>\n",
       "      <th>0</th>\n",
       "      <td>2017-01-31</td>\n",
       "      <td>Jan</td>\n",
       "      <td>2017</td>\n",
       "      <td>Campaign 1</td>\n",
       "      <td>171150.0</td>\n",
       "      <td>146700.0</td>\n",
       "      <td>48900</td>\n",
       "      <td>73350.0</td>\n",
       "      <td>48900.0</td>\n",
       "      <td>Platform A</td>\n",
       "      <td>4</td>\n",
       "      <td>5</td>\n",
       "      <td>489000</td>\n",
       "      <td>12546.666667</td>\n",
       "      <td>2925.00</td>\n",
       "      <td>2925.00</td>\n",
       "      <td>60</td>\n",
       "      <td>180</td>\n",
       "      <td>175500.0</td>\n",
       "      <td>526500.0</td>\n",
       "    </tr>\n",
       "    <tr>\n",
       "      <th>1</th>\n",
       "      <td>2017-01-31</td>\n",
       "      <td>Jan</td>\n",
       "      <td>2017</td>\n",
       "      <td>Campaign 1</td>\n",
       "      <td>139650.0</td>\n",
       "      <td>119700.0</td>\n",
       "      <td>39900</td>\n",
       "      <td>59850.0</td>\n",
       "      <td>39900.0</td>\n",
       "      <td>Platform B</td>\n",
       "      <td>3</td>\n",
       "      <td>6</td>\n",
       "      <td>399000</td>\n",
       "      <td>18532.000000</td>\n",
       "      <td>1365.00</td>\n",
       "      <td>1365.00</td>\n",
       "      <td>60</td>\n",
       "      <td>180</td>\n",
       "      <td>81900.0</td>\n",
       "      <td>245700.0</td>\n",
       "    </tr>\n",
       "    <tr>\n",
       "      <th>2</th>\n",
       "      <td>2017-01-31</td>\n",
       "      <td>Jan</td>\n",
       "      <td>2017</td>\n",
       "      <td>Campaign 1</td>\n",
       "      <td>182350.0</td>\n",
       "      <td>156300.0</td>\n",
       "      <td>52100</td>\n",
       "      <td>78150.0</td>\n",
       "      <td>52100.0</td>\n",
       "      <td>Platform C</td>\n",
       "      <td>7</td>\n",
       "      <td>8</td>\n",
       "      <td>521000</td>\n",
       "      <td>20963.333333</td>\n",
       "      <td>1625.00</td>\n",
       "      <td>1625.00</td>\n",
       "      <td>60</td>\n",
       "      <td>180</td>\n",
       "      <td>97500.0</td>\n",
       "      <td>292500.0</td>\n",
       "    </tr>\n",
       "    <tr>\n",
       "      <th>3</th>\n",
       "      <td>2017-01-31</td>\n",
       "      <td>Jan</td>\n",
       "      <td>2017</td>\n",
       "      <td>Campaign 1</td>\n",
       "      <td>189000.0</td>\n",
       "      <td>162000.0</td>\n",
       "      <td>54000</td>\n",
       "      <td>81000.0</td>\n",
       "      <td>54000.0</td>\n",
       "      <td>Platform D</td>\n",
       "      <td>4</td>\n",
       "      <td>8</td>\n",
       "      <td>540000</td>\n",
       "      <td>22443.333333</td>\n",
       "      <td>2091.83</td>\n",
       "      <td>2091.83</td>\n",
       "      <td>60</td>\n",
       "      <td>180</td>\n",
       "      <td>125509.8</td>\n",
       "      <td>376529.4</td>\n",
       "    </tr>\n",
       "    <tr>\n",
       "      <th>4</th>\n",
       "      <td>2017-02-28</td>\n",
       "      <td>Feb</td>\n",
       "      <td>2017</td>\n",
       "      <td>Campaign 1</td>\n",
       "      <td>204750.0</td>\n",
       "      <td>175500.0</td>\n",
       "      <td>58500</td>\n",
       "      <td>87750.0</td>\n",
       "      <td>58500.0</td>\n",
       "      <td>Platform A</td>\n",
       "      <td>8</td>\n",
       "      <td>2</td>\n",
       "      <td>585000</td>\n",
       "      <td>24498.333333</td>\n",
       "      <td>4225.00</td>\n",
       "      <td>4225.00</td>\n",
       "      <td>60</td>\n",
       "      <td>180</td>\n",
       "      <td>253500.0</td>\n",
       "      <td>760500.0</td>\n",
       "    </tr>\n",
       "  </tbody>\n",
       "</table>\n",
       "</div>"
      ],
      "text/plain": [
       "        Date Month  Year Ad Campaign  Display ads  Overlay ads  Skippable ads  \\\n",
       "0 2017-01-31   Jan  2017  Campaign 1     171150.0     146700.0          48900   \n",
       "1 2017-01-31   Jan  2017  Campaign 1     139650.0     119700.0          39900   \n",
       "2 2017-01-31   Jan  2017  Campaign 1     182350.0     156300.0          52100   \n",
       "3 2017-01-31   Jan  2017  Campaign 1     189000.0     162000.0          54000   \n",
       "4 2017-02-28   Feb  2017  Campaign 1     204750.0     175500.0          58500   \n",
       "\n",
       "   Non-skippable ads  Bumper ads    Platform  Avg Pages Visited  \\\n",
       "0            73350.0     48900.0  Platform A                  4   \n",
       "1            59850.0     39900.0  Platform B                  3   \n",
       "2            78150.0     52100.0  Platform C                  7   \n",
       "3            81000.0     54000.0  Platform D                  4   \n",
       "4            87750.0     58500.0  Platform A                  8   \n",
       "\n",
       "   AVG Time on Site (mins)  Impressions         Clicks  Conversions  \\\n",
       "0                        5        489000  12546.666667      2925.00   \n",
       "1                        6        399000  18532.000000      1365.00   \n",
       "2                        8        521000  20963.333333      1625.00   \n",
       "3                        8        540000  22443.333333      2091.83   \n",
       "4                        2        585000  24498.333333      4225.00   \n",
       "\n",
       "   Quantity Sold  Unit Cost Price  Unit Sale Price  Final Cost Price  \\\n",
       "0        2925.00               60              180          175500.0   \n",
       "1        1365.00               60              180           81900.0   \n",
       "2        1625.00               60              180           97500.0   \n",
       "3        2091.83               60              180          125509.8   \n",
       "4        4225.00               60              180          253500.0   \n",
       "\n",
       "   Final Sale Price  \n",
       "0          526500.0  \n",
       "1          245700.0  \n",
       "2          292500.0  \n",
       "3          376529.4  \n",
       "4          760500.0  "
      ]
     },
     "execution_count": 4,
     "metadata": {},
     "output_type": "execute_result"
    }
   ],
   "source": [
    "### data sheet\n",
    "#let's understand data\n",
    "\n",
    "data.head()"
   ]
  },
  {
   "cell_type": "code",
   "execution_count": 5,
   "id": "af5ee8c2-53f8-4951-9017-a6f3316fd914",
   "metadata": {},
   "outputs": [],
   "source": [
    "#Clean Column Names\n",
    "def clean_columns(df):\n",
    "    df.columns = df.columns.str.strip().str.lower().str.replace(' ', '_').str.replace(r'[^\\w\\s]', '', regex=True)\n",
    "    return df\n"
   ]
  },
  {
   "cell_type": "code",
   "execution_count": 6,
   "id": "ebc84684-c399-47fb-89c4-ae52b4ee52d2",
   "metadata": {},
   "outputs": [],
   "source": [
    "# Apply to each sheet\n",
    "data = clean_columns(data)\n",
    "impression_cost = clean_columns(impression_cost)\n",
    "click_cost = clean_columns(click_cost)\n",
    "sales_target = clean_columns(sales_target)\n",
    "ad_budget = clean_columns(ad_budget)"
   ]
  },
  {
   "cell_type": "code",
   "execution_count": 7,
   "id": "ee05c2e4-b1fb-4fda-9cf7-8416fec64d4c",
   "metadata": {},
   "outputs": [
    {
     "data": {
      "text/html": [
       "<div>\n",
       "<style scoped>\n",
       "    .dataframe tbody tr th:only-of-type {\n",
       "        vertical-align: middle;\n",
       "    }\n",
       "\n",
       "    .dataframe tbody tr th {\n",
       "        vertical-align: top;\n",
       "    }\n",
       "\n",
       "    .dataframe thead th {\n",
       "        text-align: right;\n",
       "    }\n",
       "</style>\n",
       "<table border=\"1\" class=\"dataframe\">\n",
       "  <thead>\n",
       "    <tr style=\"text-align: right;\">\n",
       "      <th></th>\n",
       "      <th>date</th>\n",
       "      <th>month</th>\n",
       "      <th>year</th>\n",
       "      <th>ad_campaign</th>\n",
       "      <th>display_ads</th>\n",
       "      <th>overlay_ads</th>\n",
       "      <th>skippable_ads</th>\n",
       "      <th>nonskippable_ads</th>\n",
       "      <th>bumper_ads</th>\n",
       "      <th>platform</th>\n",
       "      <th>avg_pages_visited</th>\n",
       "      <th>avg_time_on_site_mins</th>\n",
       "      <th>impressions</th>\n",
       "      <th>clicks</th>\n",
       "      <th>conversions</th>\n",
       "      <th>quantity_sold</th>\n",
       "      <th>unit_cost_price</th>\n",
       "      <th>unit_sale_price</th>\n",
       "      <th>final_cost_price</th>\n",
       "      <th>final_sale_price</th>\n",
       "    </tr>\n",
       "  </thead>\n",
       "  <tbody>\n",
       "    <tr>\n",
       "      <th>0</th>\n",
       "      <td>2017-01-31</td>\n",
       "      <td>Jan</td>\n",
       "      <td>2017</td>\n",
       "      <td>Campaign 1</td>\n",
       "      <td>171150.0</td>\n",
       "      <td>146700.0</td>\n",
       "      <td>48900</td>\n",
       "      <td>73350.0</td>\n",
       "      <td>48900.0</td>\n",
       "      <td>Platform A</td>\n",
       "      <td>4</td>\n",
       "      <td>5</td>\n",
       "      <td>489000</td>\n",
       "      <td>12546.666667</td>\n",
       "      <td>2925.00</td>\n",
       "      <td>2925.00</td>\n",
       "      <td>60</td>\n",
       "      <td>180</td>\n",
       "      <td>175500.0</td>\n",
       "      <td>526500.0</td>\n",
       "    </tr>\n",
       "    <tr>\n",
       "      <th>1</th>\n",
       "      <td>2017-01-31</td>\n",
       "      <td>Jan</td>\n",
       "      <td>2017</td>\n",
       "      <td>Campaign 1</td>\n",
       "      <td>139650.0</td>\n",
       "      <td>119700.0</td>\n",
       "      <td>39900</td>\n",
       "      <td>59850.0</td>\n",
       "      <td>39900.0</td>\n",
       "      <td>Platform B</td>\n",
       "      <td>3</td>\n",
       "      <td>6</td>\n",
       "      <td>399000</td>\n",
       "      <td>18532.000000</td>\n",
       "      <td>1365.00</td>\n",
       "      <td>1365.00</td>\n",
       "      <td>60</td>\n",
       "      <td>180</td>\n",
       "      <td>81900.0</td>\n",
       "      <td>245700.0</td>\n",
       "    </tr>\n",
       "    <tr>\n",
       "      <th>2</th>\n",
       "      <td>2017-01-31</td>\n",
       "      <td>Jan</td>\n",
       "      <td>2017</td>\n",
       "      <td>Campaign 1</td>\n",
       "      <td>182350.0</td>\n",
       "      <td>156300.0</td>\n",
       "      <td>52100</td>\n",
       "      <td>78150.0</td>\n",
       "      <td>52100.0</td>\n",
       "      <td>Platform C</td>\n",
       "      <td>7</td>\n",
       "      <td>8</td>\n",
       "      <td>521000</td>\n",
       "      <td>20963.333333</td>\n",
       "      <td>1625.00</td>\n",
       "      <td>1625.00</td>\n",
       "      <td>60</td>\n",
       "      <td>180</td>\n",
       "      <td>97500.0</td>\n",
       "      <td>292500.0</td>\n",
       "    </tr>\n",
       "    <tr>\n",
       "      <th>3</th>\n",
       "      <td>2017-01-31</td>\n",
       "      <td>Jan</td>\n",
       "      <td>2017</td>\n",
       "      <td>Campaign 1</td>\n",
       "      <td>189000.0</td>\n",
       "      <td>162000.0</td>\n",
       "      <td>54000</td>\n",
       "      <td>81000.0</td>\n",
       "      <td>54000.0</td>\n",
       "      <td>Platform D</td>\n",
       "      <td>4</td>\n",
       "      <td>8</td>\n",
       "      <td>540000</td>\n",
       "      <td>22443.333333</td>\n",
       "      <td>2091.83</td>\n",
       "      <td>2091.83</td>\n",
       "      <td>60</td>\n",
       "      <td>180</td>\n",
       "      <td>125509.8</td>\n",
       "      <td>376529.4</td>\n",
       "    </tr>\n",
       "    <tr>\n",
       "      <th>4</th>\n",
       "      <td>2017-02-28</td>\n",
       "      <td>Feb</td>\n",
       "      <td>2017</td>\n",
       "      <td>Campaign 1</td>\n",
       "      <td>204750.0</td>\n",
       "      <td>175500.0</td>\n",
       "      <td>58500</td>\n",
       "      <td>87750.0</td>\n",
       "      <td>58500.0</td>\n",
       "      <td>Platform A</td>\n",
       "      <td>8</td>\n",
       "      <td>2</td>\n",
       "      <td>585000</td>\n",
       "      <td>24498.333333</td>\n",
       "      <td>4225.00</td>\n",
       "      <td>4225.00</td>\n",
       "      <td>60</td>\n",
       "      <td>180</td>\n",
       "      <td>253500.0</td>\n",
       "      <td>760500.0</td>\n",
       "    </tr>\n",
       "  </tbody>\n",
       "</table>\n",
       "</div>"
      ],
      "text/plain": [
       "        date month  year ad_campaign  display_ads  overlay_ads  skippable_ads  \\\n",
       "0 2017-01-31   Jan  2017  Campaign 1     171150.0     146700.0          48900   \n",
       "1 2017-01-31   Jan  2017  Campaign 1     139650.0     119700.0          39900   \n",
       "2 2017-01-31   Jan  2017  Campaign 1     182350.0     156300.0          52100   \n",
       "3 2017-01-31   Jan  2017  Campaign 1     189000.0     162000.0          54000   \n",
       "4 2017-02-28   Feb  2017  Campaign 1     204750.0     175500.0          58500   \n",
       "\n",
       "   nonskippable_ads  bumper_ads    platform  avg_pages_visited  \\\n",
       "0           73350.0     48900.0  Platform A                  4   \n",
       "1           59850.0     39900.0  Platform B                  3   \n",
       "2           78150.0     52100.0  Platform C                  7   \n",
       "3           81000.0     54000.0  Platform D                  4   \n",
       "4           87750.0     58500.0  Platform A                  8   \n",
       "\n",
       "   avg_time_on_site_mins  impressions        clicks  conversions  \\\n",
       "0                      5       489000  12546.666667      2925.00   \n",
       "1                      6       399000  18532.000000      1365.00   \n",
       "2                      8       521000  20963.333333      1625.00   \n",
       "3                      8       540000  22443.333333      2091.83   \n",
       "4                      2       585000  24498.333333      4225.00   \n",
       "\n",
       "   quantity_sold  unit_cost_price  unit_sale_price  final_cost_price  \\\n",
       "0        2925.00               60              180          175500.0   \n",
       "1        1365.00               60              180           81900.0   \n",
       "2        1625.00               60              180           97500.0   \n",
       "3        2091.83               60              180          125509.8   \n",
       "4        4225.00               60              180          253500.0   \n",
       "\n",
       "   final_sale_price  \n",
       "0          526500.0  \n",
       "1          245700.0  \n",
       "2          292500.0  \n",
       "3          376529.4  \n",
       "4          760500.0  "
      ]
     },
     "execution_count": 7,
     "metadata": {},
     "output_type": "execute_result"
    }
   ],
   "source": [
    "#preview each sheet\n",
    "# View top rows\n",
    "data.head()"
   ]
  },
  {
   "cell_type": "code",
   "execution_count": 8,
   "id": "9ab02a9c-4bf0-4c7f-8891-ee5c8caa7634",
   "metadata": {},
   "outputs": [
    {
     "data": {
      "text/html": [
       "<div>\n",
       "<style scoped>\n",
       "    .dataframe tbody tr th:only-of-type {\n",
       "        vertical-align: middle;\n",
       "    }\n",
       "\n",
       "    .dataframe tbody tr th {\n",
       "        vertical-align: top;\n",
       "    }\n",
       "\n",
       "    .dataframe thead th {\n",
       "        text-align: right;\n",
       "    }\n",
       "</style>\n",
       "<table border=\"1\" class=\"dataframe\">\n",
       "  <thead>\n",
       "    <tr style=\"text-align: right;\">\n",
       "      <th></th>\n",
       "      <th>year</th>\n",
       "      <th>platform</th>\n",
       "      <th>cost_per_1000_impression_cpm</th>\n",
       "    </tr>\n",
       "  </thead>\n",
       "  <tbody>\n",
       "    <tr>\n",
       "      <th>0</th>\n",
       "      <td>2017</td>\n",
       "      <td>Platform A</td>\n",
       "      <td>2.5</td>\n",
       "    </tr>\n",
       "    <tr>\n",
       "      <th>1</th>\n",
       "      <td>2017</td>\n",
       "      <td>Platform B</td>\n",
       "      <td>3.5</td>\n",
       "    </tr>\n",
       "    <tr>\n",
       "      <th>2</th>\n",
       "      <td>2017</td>\n",
       "      <td>Platform C</td>\n",
       "      <td>4.5</td>\n",
       "    </tr>\n",
       "    <tr>\n",
       "      <th>3</th>\n",
       "      <td>2017</td>\n",
       "      <td>Platform D</td>\n",
       "      <td>5.5</td>\n",
       "    </tr>\n",
       "    <tr>\n",
       "      <th>4</th>\n",
       "      <td>2018</td>\n",
       "      <td>Platform A</td>\n",
       "      <td>3.0</td>\n",
       "    </tr>\n",
       "  </tbody>\n",
       "</table>\n",
       "</div>"
      ],
      "text/plain": [
       "   year    platform  cost_per_1000_impression_cpm\n",
       "0  2017  Platform A                           2.5\n",
       "1  2017  Platform B                           3.5\n",
       "2  2017  Platform C                           4.5\n",
       "3  2017  Platform D                           5.5\n",
       "4  2018  Platform A                           3.0"
      ]
     },
     "execution_count": 8,
     "metadata": {},
     "output_type": "execute_result"
    }
   ],
   "source": [
    "impression_cost.head()"
   ]
  },
  {
   "cell_type": "code",
   "execution_count": 9,
   "id": "36fe7b65-6177-4719-823a-cf91abb55003",
   "metadata": {},
   "outputs": [
    {
     "data": {
      "text/html": [
       "<div>\n",
       "<style scoped>\n",
       "    .dataframe tbody tr th:only-of-type {\n",
       "        vertical-align: middle;\n",
       "    }\n",
       "\n",
       "    .dataframe tbody tr th {\n",
       "        vertical-align: top;\n",
       "    }\n",
       "\n",
       "    .dataframe thead th {\n",
       "        text-align: right;\n",
       "    }\n",
       "</style>\n",
       "<table border=\"1\" class=\"dataframe\">\n",
       "  <thead>\n",
       "    <tr style=\"text-align: right;\">\n",
       "      <th></th>\n",
       "      <th>year</th>\n",
       "      <th>platform</th>\n",
       "      <th>cost_per_click_cpc</th>\n",
       "    </tr>\n",
       "  </thead>\n",
       "  <tbody>\n",
       "    <tr>\n",
       "      <th>0</th>\n",
       "      <td>2017</td>\n",
       "      <td>Platform A</td>\n",
       "      <td>1.50</td>\n",
       "    </tr>\n",
       "    <tr>\n",
       "      <th>1</th>\n",
       "      <td>2017</td>\n",
       "      <td>Platform B</td>\n",
       "      <td>2.10</td>\n",
       "    </tr>\n",
       "    <tr>\n",
       "      <th>2</th>\n",
       "      <td>2017</td>\n",
       "      <td>Platform C</td>\n",
       "      <td>1.80</td>\n",
       "    </tr>\n",
       "    <tr>\n",
       "      <th>3</th>\n",
       "      <td>2017</td>\n",
       "      <td>Platform D</td>\n",
       "      <td>1.50</td>\n",
       "    </tr>\n",
       "    <tr>\n",
       "      <th>4</th>\n",
       "      <td>2018</td>\n",
       "      <td>Platform A</td>\n",
       "      <td>1.95</td>\n",
       "    </tr>\n",
       "  </tbody>\n",
       "</table>\n",
       "</div>"
      ],
      "text/plain": [
       "   year    platform  cost_per_click_cpc\n",
       "0  2017  Platform A                1.50\n",
       "1  2017  Platform B                2.10\n",
       "2  2017  Platform C                1.80\n",
       "3  2017  Platform D                1.50\n",
       "4  2018  Platform A                1.95"
      ]
     },
     "execution_count": 9,
     "metadata": {},
     "output_type": "execute_result"
    }
   ],
   "source": [
    "click_cost.head()"
   ]
  },
  {
   "cell_type": "code",
   "execution_count": 10,
   "id": "c8a97dc1-3a8c-4181-8761-44b76dd77e44",
   "metadata": {},
   "outputs": [
    {
     "data": {
      "text/html": [
       "<div>\n",
       "<style scoped>\n",
       "    .dataframe tbody tr th:only-of-type {\n",
       "        vertical-align: middle;\n",
       "    }\n",
       "\n",
       "    .dataframe tbody tr th {\n",
       "        vertical-align: top;\n",
       "    }\n",
       "\n",
       "    .dataframe thead th {\n",
       "        text-align: right;\n",
       "    }\n",
       "</style>\n",
       "<table border=\"1\" class=\"dataframe\">\n",
       "  <thead>\n",
       "    <tr style=\"text-align: right;\">\n",
       "      <th></th>\n",
       "      <th>date</th>\n",
       "      <th>sales_target</th>\n",
       "    </tr>\n",
       "  </thead>\n",
       "  <tbody>\n",
       "    <tr>\n",
       "      <th>0</th>\n",
       "      <td>2017-01-31</td>\n",
       "      <td>1250000</td>\n",
       "    </tr>\n",
       "    <tr>\n",
       "      <th>1</th>\n",
       "      <td>2017-02-28</td>\n",
       "      <td>1250000</td>\n",
       "    </tr>\n",
       "    <tr>\n",
       "      <th>2</th>\n",
       "      <td>2017-03-31</td>\n",
       "      <td>1250000</td>\n",
       "    </tr>\n",
       "    <tr>\n",
       "      <th>3</th>\n",
       "      <td>2017-04-30</td>\n",
       "      <td>1250000</td>\n",
       "    </tr>\n",
       "    <tr>\n",
       "      <th>4</th>\n",
       "      <td>2017-05-31</td>\n",
       "      <td>1250000</td>\n",
       "    </tr>\n",
       "  </tbody>\n",
       "</table>\n",
       "</div>"
      ],
      "text/plain": [
       "        date  sales_target\n",
       "0 2017-01-31       1250000\n",
       "1 2017-02-28       1250000\n",
       "2 2017-03-31       1250000\n",
       "3 2017-04-30       1250000\n",
       "4 2017-05-31       1250000"
      ]
     },
     "execution_count": 10,
     "metadata": {},
     "output_type": "execute_result"
    }
   ],
   "source": [
    "sales_target.head()"
   ]
  },
  {
   "cell_type": "code",
   "execution_count": 11,
   "id": "88875b43-7313-4527-a219-3672832a3420",
   "metadata": {},
   "outputs": [
    {
     "data": {
      "text/html": [
       "<div>\n",
       "<style scoped>\n",
       "    .dataframe tbody tr th:only-of-type {\n",
       "        vertical-align: middle;\n",
       "    }\n",
       "\n",
       "    .dataframe tbody tr th {\n",
       "        vertical-align: top;\n",
       "    }\n",
       "\n",
       "    .dataframe thead th {\n",
       "        text-align: right;\n",
       "    }\n",
       "</style>\n",
       "<table border=\"1\" class=\"dataframe\">\n",
       "  <thead>\n",
       "    <tr style=\"text-align: right;\">\n",
       "      <th></th>\n",
       "      <th>date</th>\n",
       "      <th>ad_budget</th>\n",
       "    </tr>\n",
       "  </thead>\n",
       "  <tbody>\n",
       "    <tr>\n",
       "      <th>0</th>\n",
       "      <td>2017-01-31</td>\n",
       "      <td>600000</td>\n",
       "    </tr>\n",
       "    <tr>\n",
       "      <th>1</th>\n",
       "      <td>2017-02-28</td>\n",
       "      <td>600000</td>\n",
       "    </tr>\n",
       "    <tr>\n",
       "      <th>2</th>\n",
       "      <td>2017-03-31</td>\n",
       "      <td>600000</td>\n",
       "    </tr>\n",
       "    <tr>\n",
       "      <th>3</th>\n",
       "      <td>2017-04-30</td>\n",
       "      <td>600000</td>\n",
       "    </tr>\n",
       "    <tr>\n",
       "      <th>4</th>\n",
       "      <td>2017-05-31</td>\n",
       "      <td>600000</td>\n",
       "    </tr>\n",
       "  </tbody>\n",
       "</table>\n",
       "</div>"
      ],
      "text/plain": [
       "        date  ad_budget\n",
       "0 2017-01-31     600000\n",
       "1 2017-02-28     600000\n",
       "2 2017-03-31     600000\n",
       "3 2017-04-30     600000\n",
       "4 2017-05-31     600000"
      ]
     },
     "execution_count": 11,
     "metadata": {},
     "output_type": "execute_result"
    }
   ],
   "source": [
    "ad_budget.head()"
   ]
  },
  {
   "cell_type": "code",
   "execution_count": 13,
   "id": "a6461c2e-dfd9-4506-8af0-2d2e83d7b0a7",
   "metadata": {},
   "outputs": [
    {
     "name": "stdout",
     "output_type": "stream",
     "text": [
      "<class 'pandas.core.frame.DataFrame'>\n",
      "RangeIndex: 192 entries, 0 to 191\n",
      "Data columns (total 20 columns):\n",
      " #   Column                 Non-Null Count  Dtype         \n",
      "---  ------                 --------------  -----         \n",
      " 0   date                   192 non-null    datetime64[ns]\n",
      " 1   month                  192 non-null    object        \n",
      " 2   year                   192 non-null    int64         \n",
      " 3   ad_campaign            192 non-null    object        \n",
      " 4   display_ads            192 non-null    float64       \n",
      " 5   overlay_ads            192 non-null    float64       \n",
      " 6   skippable_ads          192 non-null    int64         \n",
      " 7   nonskippable_ads       192 non-null    float64       \n",
      " 8   bumper_ads             192 non-null    float64       \n",
      " 9   platform               192 non-null    object        \n",
      " 10  avg_pages_visited      192 non-null    int64         \n",
      " 11  avg_time_on_site_mins  192 non-null    int64         \n",
      " 12  impressions            192 non-null    int64         \n",
      " 13  clicks                 192 non-null    float64       \n",
      " 14  conversions            192 non-null    float64       \n",
      " 15  quantity_sold          192 non-null    float64       \n",
      " 16  unit_cost_price        192 non-null    int64         \n",
      " 17  unit_sale_price        192 non-null    int64         \n",
      " 18  final_cost_price       192 non-null    float64       \n",
      " 19  final_sale_price       192 non-null    float64       \n",
      "dtypes: datetime64[ns](1), float64(9), int64(7), object(3)\n",
      "memory usage: 30.1+ KB\n",
      "None\n",
      "-------------------------------------------------------------------------------------------------------------------\n",
      "<class 'pandas.core.frame.DataFrame'>\n",
      "RangeIndex: 16 entries, 0 to 15\n",
      "Data columns (total 3 columns):\n",
      " #   Column                        Non-Null Count  Dtype  \n",
      "---  ------                        --------------  -----  \n",
      " 0   year                          16 non-null     int64  \n",
      " 1   platform                      16 non-null     object \n",
      " 2   cost_per_1000_impression_cpm  16 non-null     float64\n",
      "dtypes: float64(1), int64(1), object(1)\n",
      "memory usage: 516.0+ bytes\n",
      "None\n",
      "-------------------------------------------------------------------------------------------------------------------\n",
      "<class 'pandas.core.frame.DataFrame'>\n",
      "RangeIndex: 16 entries, 0 to 15\n",
      "Data columns (total 3 columns):\n",
      " #   Column              Non-Null Count  Dtype  \n",
      "---  ------              --------------  -----  \n",
      " 0   year                16 non-null     int64  \n",
      " 1   platform            16 non-null     object \n",
      " 2   cost_per_click_cpc  16 non-null     float64\n",
      "dtypes: float64(1), int64(1), object(1)\n",
      "memory usage: 516.0+ bytes\n",
      "None\n",
      "-------------------------------------------------------------------------------------------------------------------\n",
      "<class 'pandas.core.frame.DataFrame'>\n",
      "RangeIndex: 48 entries, 0 to 47\n",
      "Data columns (total 2 columns):\n",
      " #   Column        Non-Null Count  Dtype         \n",
      "---  ------        --------------  -----         \n",
      " 0   date          48 non-null     datetime64[ns]\n",
      " 1   sales_target  48 non-null     int64         \n",
      "dtypes: datetime64[ns](1), int64(1)\n",
      "memory usage: 900.0 bytes\n",
      "None\n",
      "-------------------------------------------------------------------------------------------------------------------\n",
      "<class 'pandas.core.frame.DataFrame'>\n",
      "RangeIndex: 48 entries, 0 to 47\n",
      "Data columns (total 2 columns):\n",
      " #   Column     Non-Null Count  Dtype         \n",
      "---  ------     --------------  -----         \n",
      " 0   date       48 non-null     datetime64[ns]\n",
      " 1   ad_budget  48 non-null     int64         \n",
      "dtypes: datetime64[ns](1), int64(1)\n",
      "memory usage: 900.0 bytes\n",
      "None\n"
     ]
    }
   ],
   "source": [
    "print(data.info())\n",
    "print(\"-------------------------------------------------------------------------------------------------------------------\")\n",
    "print(impression_cost.info())\n",
    "print(\"-------------------------------------------------------------------------------------------------------------------\")\n",
    "print(click_cost.info())\n",
    "print(\"-------------------------------------------------------------------------------------------------------------------\")\n",
    "print(sales_target.info())\n",
    "print(\"-------------------------------------------------------------------------------------------------------------------\")\n",
    "print(ad_budget.info())"
   ]
  },
  {
   "cell_type": "code",
   "execution_count": 14,
   "id": "c5f000dd-1ca6-43f6-8419-c106d79695d4",
   "metadata": {},
   "outputs": [
    {
     "name": "stdout",
     "output_type": "stream",
     "text": [
      "                       date month         year ad_campaign    display_ads  \\\n",
      "count                   192   192   192.000000         192     192.000000   \n",
      "unique                  NaN    12          NaN           3            NaN   \n",
      "top                     NaN   Jan          NaN  Campaign 1            NaN   \n",
      "freq                    NaN    16          NaN          64            NaN   \n",
      "mean    2019-01-14 15:00:00   NaN  2018.500000         NaN  218970.562500   \n",
      "min     2017-01-31 00:00:00   NaN  2017.000000         NaN  131460.000000   \n",
      "25%     2018-01-23 06:00:00   NaN  2017.750000         NaN  189000.000000   \n",
      "50%     2019-01-15 12:00:00   NaN  2018.500000         NaN  217515.000000   \n",
      "75%     2020-01-07 18:00:00   NaN  2019.250000         NaN  251560.000000   \n",
      "max     2020-12-31 00:00:00   NaN  2020.000000         NaN  333640.000000   \n",
      "std                     NaN   NaN     1.120957         NaN   42385.909302   \n",
      "\n",
      "          overlay_ads  skippable_ads  nonskippable_ads     bumper_ads  \\\n",
      "count      192.000000     192.000000        192.000000     192.000000   \n",
      "unique            NaN            NaN               NaN            NaN   \n",
      "top               NaN            NaN               NaN            NaN   \n",
      "freq              NaN            NaN               NaN            NaN   \n",
      "mean    153489.604167  108067.010417      57979.364583   56454.916667   \n",
      "min      89600.000000   37560.000000      31360.000000   26880.000000   \n",
      "25%     130800.000000   73420.000000      46862.500000   39765.000000   \n",
      "50%     152340.000000  111680.000000      53650.000000   50000.000000   \n",
      "75%     175280.000000  135050.000000      66825.000000   69188.000000   \n",
      "max     245840.000000  200500.000000     111000.000000  112280.000000   \n",
      "std      30066.037478   43040.523381      15514.838102   21237.384444   \n",
      "\n",
      "          platform  avg_pages_visited  avg_time_on_site_mins    impressions  \\\n",
      "count          192         192.000000             192.000000     192.000000   \n",
      "unique           4                NaN                    NaN            NaN   \n",
      "top     Platform A                NaN                    NaN            NaN   \n",
      "freq            48                NaN                    NaN            NaN   \n",
      "mean           NaN           3.588542               3.984375  594961.458333   \n",
      "min            NaN           1.000000               1.000000  375600.000000   \n",
      "25%            NaN           2.000000               2.000000  521000.000000   \n",
      "50%            NaN           4.000000               3.000000  598000.000000   \n",
      "75%            NaN           5.000000               6.000000  662000.000000   \n",
      "max            NaN           8.000000               8.000000  878000.000000   \n",
      "std            NaN           2.085219               2.405222  104423.324780   \n",
      "\n",
      "              clicks  conversions  quantity_sold  unit_cost_price  \\\n",
      "count     192.000000   192.000000     192.000000       192.000000   \n",
      "unique           NaN          NaN            NaN              NaN   \n",
      "top              NaN          NaN            NaN              NaN   \n",
      "freq             NaN          NaN            NaN              NaN   \n",
      "mean    21600.909722  2379.798383    2379.798383        77.500000   \n",
      "min      9368.333333   650.000000     650.000000        60.000000   \n",
      "25%     16302.500000  1365.000000    1365.000000        67.500000   \n",
      "50%     20615.833333  2063.165000    2063.165000        75.000000   \n",
      "75%     26083.333333  2935.968750    2935.968750        85.000000   \n",
      "max     42773.333333  6500.000000    6500.000000       100.000000   \n",
      "std      7022.805244  1278.078987    1278.078987        14.828867   \n",
      "\n",
      "        unit_sale_price  final_cost_price  final_sale_price  \n",
      "count        192.000000        192.000000      1.920000e+02  \n",
      "unique              NaN               NaN               NaN  \n",
      "top                 NaN               NaN               NaN  \n",
      "freq                NaN               NaN               NaN  \n",
      "mean         245.000000     186650.507604      5.902603e+05  \n",
      "min          180.000000      45500.000000      1.495000e+05  \n",
      "25%          217.500000     101400.000000      3.210724e+05  \n",
      "50%          245.000000     150917.812500      4.829250e+05  \n",
      "75%          272.500000     245943.750000      7.605000e+05  \n",
      "max          310.000000     625560.000000      1.939236e+06  \n",
      "std           47.293226     114479.726719      3.619646e+05  \n",
      "-------------------------------------------------------------------------------------------------------------------\n",
      "               year    platform  cost_per_1000_impression_cpm\n",
      "count     16.000000          16                      16.00000\n",
      "unique          NaN           4                           NaN\n",
      "top             NaN  Platform A                           NaN\n",
      "freq            NaN           4                           NaN\n",
      "mean    2018.500000         NaN                       5.12500\n",
      "std        1.154701         NaN                       1.52206\n",
      "min     2017.000000         NaN                       2.50000\n",
      "25%     2017.750000         NaN                       4.00000\n",
      "50%     2018.500000         NaN                       5.00000\n",
      "75%     2019.250000         NaN                       6.00000\n",
      "max     2020.000000         NaN                       8.00000\n",
      "-------------------------------------------------------------------------------------------------------------------\n",
      "               year    platform  cost_per_click_cpc\n",
      "count     16.000000          16            16.00000\n",
      "unique          NaN           4                 NaN\n",
      "top             NaN  Platform A                 NaN\n",
      "freq            NaN           4                 NaN\n",
      "mean    2018.500000         NaN             2.04375\n",
      "std        1.154701         NaN             0.34635\n",
      "min     2017.000000         NaN             1.50000\n",
      "25%     2017.750000         NaN             1.80000\n",
      "50%     2018.500000         NaN             2.00000\n",
      "75%     2019.250000         NaN             2.26250\n",
      "max     2020.000000         NaN             2.80000\n",
      "-------------------------------------------------------------------------------------------------------------------\n",
      "                      date  sales_target\n",
      "count                   48  4.800000e+01\n",
      "mean   2019-01-14 15:00:00  1.637500e+06\n",
      "min    2017-01-31 00:00:00  1.250000e+06\n",
      "25%    2018-01-23 06:00:00  1.437500e+06\n",
      "50%    2019-01-15 12:00:00  1.650000e+06\n",
      "75%    2020-01-07 18:00:00  1.850000e+06\n",
      "max    2020-12-31 00:00:00  2.000000e+06\n",
      "std                    NaN  2.888900e+05\n",
      "-------------------------------------------------------------------------------------------------------------------\n",
      "                      date      ad_budget\n",
      "count                   48      48.000000\n",
      "mean   2019-01-14 15:00:00  750000.000000\n",
      "min    2017-01-31 00:00:00  600000.000000\n",
      "25%    2018-01-23 06:00:00  712500.000000\n",
      "50%    2019-01-15 12:00:00  775000.000000\n",
      "75%    2020-01-07 18:00:00  812500.000000\n",
      "max    2020-12-31 00:00:00  850000.000000\n",
      "std                    NaN   94531.318687\n"
     ]
    }
   ],
   "source": [
    "print(data.describe(include='all'))\n",
    "print(\"-------------------------------------------------------------------------------------------------------------------\")\n",
    "print(impression_cost.describe(include='all'))\n",
    "print(\"-------------------------------------------------------------------------------------------------------------------\")\n",
    "print(click_cost.describe(include='all'))\n",
    "print(\"-------------------------------------------------------------------------------------------------------------------\")\n",
    "print(sales_target.describe(include='all'))\n",
    "print(\"-------------------------------------------------------------------------------------------------------------------\")\n",
    "print(ad_budget.describe(include='all'))"
   ]
  },
  {
   "cell_type": "code",
   "execution_count": 15,
   "id": "80ce4494-a005-4d0f-8135-ada9bd7b0b7d",
   "metadata": {},
   "outputs": [
    {
     "name": "stdout",
     "output_type": "stream",
     "text": [
      "date                     datetime64[ns]\n",
      "month                            object\n",
      "year                              int64\n",
      "ad_campaign                      object\n",
      "display_ads                     float64\n",
      "overlay_ads                     float64\n",
      "skippable_ads                     int64\n",
      "nonskippable_ads                float64\n",
      "bumper_ads                      float64\n",
      "platform                         object\n",
      "avg_pages_visited                 int64\n",
      "avg_time_on_site_mins             int64\n",
      "impressions                       int64\n",
      "clicks                          float64\n",
      "conversions                     float64\n",
      "quantity_sold                   float64\n",
      "unit_cost_price                   int64\n",
      "unit_sale_price                   int64\n",
      "final_cost_price                float64\n",
      "final_sale_price                float64\n",
      "dtype: object\n",
      "-------------------------------------------------------------------------------------------------------------------\n",
      "year                              int64\n",
      "platform                         object\n",
      "cost_per_1000_impression_cpm    float64\n",
      "dtype: object\n",
      "-------------------------------------------------------------------------------------------------------------------\n",
      "year                    int64\n",
      "platform               object\n",
      "cost_per_click_cpc    float64\n",
      "dtype: object\n",
      "-------------------------------------------------------------------------------------------------------------------\n",
      "date            datetime64[ns]\n",
      "sales_target             int64\n",
      "dtype: object\n",
      "-------------------------------------------------------------------------------------------------------------------\n",
      "date         datetime64[ns]\n",
      "ad_budget             int64\n",
      "dtype: object\n"
     ]
    }
   ],
   "source": [
    "print(data.dtypes)\n",
    "print(\"-------------------------------------------------------------------------------------------------------------------\")\n",
    "print(impression_cost.dtypes)\n",
    "print(\"-------------------------------------------------------------------------------------------------------------------\")\n",
    "print(click_cost.dtypes)\n",
    "print(\"-------------------------------------------------------------------------------------------------------------------\")\n",
    "print(sales_target.dtypes)\n",
    "print(\"-------------------------------------------------------------------------------------------------------------------\")\n",
    "print(ad_budget.dtypes)"
   ]
  },
  {
   "cell_type": "code",
   "execution_count": 17,
   "id": "d7f78f34-a9ed-486e-b91a-87c0607e05b1",
   "metadata": {},
   "outputs": [],
   "source": [
    "#Normalize text\n",
    "\n",
    "def normalize_text(df, columns):\n",
    "    for col in columns:\n",
    "        df[col] = df[col].str.strip().str.lower()\n",
    "    return df\n",
    "\n",
    "# Main Data\n",
    "data = normalize_text(data, ['platform', 'ad_campaign'])\n",
    "\n",
    "# Impression Cost\n",
    "impression_cost = normalize_text(impression_cost, ['platform'])\n",
    "\n",
    "# Click Cost\n",
    "click_cost = normalize_text(click_cost, ['platform'])"
   ]
  },
  {
   "cell_type": "code",
   "execution_count": 19,
   "id": "6702cf40-a600-4276-a500-39840a05ddb3",
   "metadata": {},
   "outputs": [
    {
     "data": {
      "text/plain": [
       "Index(['date', 'month', 'year', 'ad_campaign', 'display_ads', 'overlay_ads',\n",
       "       'skippable_ads', 'nonskippable_ads', 'bumper_ads', 'platform',\n",
       "       'avg_pages_visited', 'avg_time_on_site_mins', 'impressions', 'clicks',\n",
       "       'conversions', 'quantity_sold', 'unit_cost_price', 'unit_sale_price',\n",
       "       'final_cost_price', 'final_sale_price'],\n",
       "      dtype='object')"
      ]
     },
     "execution_count": 19,
     "metadata": {},
     "output_type": "execute_result"
    }
   ],
   "source": [
    "data.columns"
   ]
  },
  {
   "cell_type": "code",
   "execution_count": 20,
   "id": "afdcddc4-3f7f-41a1-85aa-ebdee2621d2f",
   "metadata": {},
   "outputs": [
    {
     "data": {
      "text/plain": [
       "Index(['date', 'sales_target'], dtype='object')"
      ]
     },
     "execution_count": 20,
     "metadata": {},
     "output_type": "execute_result"
    }
   ],
   "source": [
    "sales_target.columns"
   ]
  },
  {
   "cell_type": "code",
   "execution_count": 21,
   "id": "5874a222-d4e6-4163-916c-b01bacbc925e",
   "metadata": {},
   "outputs": [
    {
     "data": {
      "text/plain": [
       "Index(['date', 'ad_budget'], dtype='object')"
      ]
     },
     "execution_count": 21,
     "metadata": {},
     "output_type": "execute_result"
    }
   ],
   "source": [
    "ad_budget.columns"
   ]
  },
  {
   "cell_type": "code",
   "execution_count": 22,
   "id": "09de2c4d-7a6b-4e4c-b2cb-8baaf04040ed",
   "metadata": {},
   "outputs": [
    {
     "data": {
      "text/plain": [
       "Index(['year', 'platform', 'cost_per_click_cpc'], dtype='object')"
      ]
     },
     "execution_count": 22,
     "metadata": {},
     "output_type": "execute_result"
    }
   ],
   "source": [
    "click_cost.columns"
   ]
  },
  {
   "cell_type": "code",
   "execution_count": 23,
   "id": "beb531fb-96ba-4809-8768-96682d260142",
   "metadata": {},
   "outputs": [
    {
     "data": {
      "text/plain": [
       "Index(['year', 'platform', 'cost_per_1000_impression_cpm'], dtype='object')"
      ]
     },
     "execution_count": 23,
     "metadata": {},
     "output_type": "execute_result"
    }
   ],
   "source": [
    "impression_cost.columns"
   ]
  },
  {
   "cell_type": "code",
   "execution_count": 24,
   "id": "a4af37d0-7682-4ab9-886b-8566ac171b20",
   "metadata": {},
   "outputs": [
    {
     "name": "stdout",
     "output_type": "stream",
     "text": [
      "Missing values in Data:\n",
      "date                     0\n",
      "month                    0\n",
      "year                     0\n",
      "ad_campaign              0\n",
      "display_ads              0\n",
      "overlay_ads              0\n",
      "skippable_ads            0\n",
      "nonskippable_ads         0\n",
      "bumper_ads               0\n",
      "platform                 0\n",
      "avg_pages_visited        0\n",
      "avg_time_on_site_mins    0\n",
      "impressions              0\n",
      "clicks                   0\n",
      "conversions              0\n",
      "quantity_sold            0\n",
      "unit_cost_price          0\n",
      "unit_sale_price          0\n",
      "final_cost_price         0\n",
      "final_sale_price         0\n",
      "dtype: int64\n"
     ]
    }
   ],
   "source": [
    "#Missing values in Data\n",
    "print(\"Missing values in Data:\")\n",
    "print(data.isnull().sum())"
   ]
  },
  {
   "cell_type": "code",
   "execution_count": 25,
   "id": "ee80ac55-66f8-4b32-9010-3c5fad17b0bb",
   "metadata": {},
   "outputs": [
    {
     "name": "stdout",
     "output_type": "stream",
     "text": [
      "Missing values in Impression Cost:\n",
      "year                            0\n",
      "platform                        0\n",
      "cost_per_1000_impression_cpm    0\n",
      "dtype: int64\n"
     ]
    }
   ],
   "source": [
    "#Missing values in Impression Cost\n",
    "print(\"Missing values in Impression Cost:\")\n",
    "print(impression_cost.isnull().sum())"
   ]
  },
  {
   "cell_type": "code",
   "execution_count": 26,
   "id": "ed0b29e5-6b4b-455e-8654-bc8bcdbebc88",
   "metadata": {},
   "outputs": [
    {
     "name": "stdout",
     "output_type": "stream",
     "text": [
      "Missing values in Click Cost:\n",
      "year                  0\n",
      "platform              0\n",
      "cost_per_click_cpc    0\n",
      "dtype: int64\n"
     ]
    }
   ],
   "source": [
    "#Missing values in Click Cost\n",
    "print(\"Missing values in Click Cost:\")\n",
    "print(click_cost.isnull().sum())"
   ]
  },
  {
   "cell_type": "code",
   "execution_count": 27,
   "id": "5da197e2-1c18-44c5-a202-80aadd6e14df",
   "metadata": {},
   "outputs": [
    {
     "name": "stdout",
     "output_type": "stream",
     "text": [
      "Missing values in Sales Target:\n",
      "date            0\n",
      "sales_target    0\n",
      "dtype: int64\n"
     ]
    }
   ],
   "source": [
    "#Missing values in Sales Target\n",
    "print(\"Missing values in Sales Target:\")\n",
    "print(sales_target.isnull().sum())"
   ]
  },
  {
   "cell_type": "code",
   "execution_count": 28,
   "id": "99131500-71c1-4765-b75a-cf7747947056",
   "metadata": {},
   "outputs": [
    {
     "name": "stdout",
     "output_type": "stream",
     "text": [
      "Missing values in Ad Budget:\n",
      "date         0\n",
      "ad_budget    0\n",
      "dtype: int64\n"
     ]
    }
   ],
   "source": [
    "#Missing values in Ad Budget\n",
    "print(\"Missing values in Ad Budget:\")\n",
    "print(ad_budget.isnull().sum())"
   ]
  },
  {
   "cell_type": "code",
   "execution_count": 29,
   "id": "3fe96239-2482-40d6-a982-4c2462bc8d5c",
   "metadata": {},
   "outputs": [
    {
     "data": {
      "text/plain": [
       "0"
      ]
     },
     "execution_count": 29,
     "metadata": {},
     "output_type": "execute_result"
    }
   ],
   "source": [
    "data.duplicated().sum()"
   ]
  },
  {
   "cell_type": "code",
   "execution_count": 30,
   "id": "857a446b-b555-40a4-ba1d-32a096462469",
   "metadata": {},
   "outputs": [
    {
     "name": "stdout",
     "output_type": "stream",
     "text": [
      "None\n",
      "None\n",
      "None\n",
      "None\n",
      "None\n"
     ]
    }
   ],
   "source": [
    "# 5. Drop duplicates\n",
    "print(data.drop_duplicates(inplace=True))\n",
    "print(impression_cost.drop_duplicates(inplace=True))\n",
    "print(click_cost.drop_duplicates(inplace=True))\n",
    "print(sales_target.drop_duplicates(inplace=True))\n",
    "print(ad_budget.drop_duplicates(inplace=True))\n"
   ]
  },
  {
   "cell_type": "code",
   "execution_count": 31,
   "id": "a01b488f-4b1e-424a-a898-2f63bd75c3ea",
   "metadata": {},
   "outputs": [
    {
     "data": {
      "text/plain": [
       "array(['Jan', 'Feb', 'Mar', 'Apr', 'May', 'Jun', 'Jul', 'Aug', 'Sep',\n",
       "       'Oct', 'Nov', 'Dec'], dtype=object)"
      ]
     },
     "execution_count": 31,
     "metadata": {},
     "output_type": "execute_result"
    }
   ],
   "source": [
    "data['month'].unique()"
   ]
  },
  {
   "cell_type": "code",
   "execution_count": 33,
   "id": "224273de-e3d7-453d-927e-b58ec700cad7",
   "metadata": {},
   "outputs": [
    {
     "data": {
      "text/html": [
       "<div>\n",
       "<style scoped>\n",
       "    .dataframe tbody tr th:only-of-type {\n",
       "        vertical-align: middle;\n",
       "    }\n",
       "\n",
       "    .dataframe tbody tr th {\n",
       "        vertical-align: top;\n",
       "    }\n",
       "\n",
       "    .dataframe thead th {\n",
       "        text-align: right;\n",
       "    }\n",
       "</style>\n",
       "<table border=\"1\" class=\"dataframe\">\n",
       "  <thead>\n",
       "    <tr style=\"text-align: right;\">\n",
       "      <th></th>\n",
       "      <th>month</th>\n",
       "      <th>year</th>\n",
       "    </tr>\n",
       "  </thead>\n",
       "  <tbody>\n",
       "    <tr>\n",
       "      <th>0</th>\n",
       "      <td>Jan</td>\n",
       "      <td>2017</td>\n",
       "    </tr>\n",
       "    <tr>\n",
       "      <th>1</th>\n",
       "      <td>Jan</td>\n",
       "      <td>2017</td>\n",
       "    </tr>\n",
       "    <tr>\n",
       "      <th>2</th>\n",
       "      <td>Jan</td>\n",
       "      <td>2017</td>\n",
       "    </tr>\n",
       "    <tr>\n",
       "      <th>3</th>\n",
       "      <td>Jan</td>\n",
       "      <td>2017</td>\n",
       "    </tr>\n",
       "    <tr>\n",
       "      <th>4</th>\n",
       "      <td>Feb</td>\n",
       "      <td>2017</td>\n",
       "    </tr>\n",
       "  </tbody>\n",
       "</table>\n",
       "</div>"
      ],
      "text/plain": [
       "  month  year\n",
       "0   Jan  2017\n",
       "1   Jan  2017\n",
       "2   Jan  2017\n",
       "3   Jan  2017\n",
       "4   Feb  2017"
      ]
     },
     "execution_count": 33,
     "metadata": {},
     "output_type": "execute_result"
    }
   ],
   "source": [
    "data[['month', 'year']].head()"
   ]
  },
  {
   "cell_type": "code",
   "execution_count": 34,
   "id": "ef484c89-bbaa-4223-8313-efa0e154d2b8",
   "metadata": {},
   "outputs": [
    {
     "name": "stdout",
     "output_type": "stream",
     "text": [
      "0   2017-01-31\n",
      "1   2017-01-31\n",
      "2   2017-01-31\n",
      "3   2017-01-31\n",
      "4   2017-02-28\n",
      "Name: date, dtype: datetime64[ns]\n",
      "0   2017-01-31\n",
      "1   2017-02-28\n",
      "2   2017-03-31\n",
      "3   2017-04-30\n",
      "4   2017-05-31\n",
      "Name: date, dtype: datetime64[ns]\n"
     ]
    }
   ],
   "source": [
    "print(data['date'].head())\n",
    "print(sales_target['date'].head())"
   ]
  },
  {
   "cell_type": "code",
   "execution_count": 35,
   "id": "f2bfd346-cadb-4848-ad10-62a8195da777",
   "metadata": {},
   "outputs": [],
   "source": [
    "# Main Data\n",
    "data['date'] = pd.to_datetime(data['date'])\n",
    "data['month'] = data['date'].dt.strftime('%b')\n",
    "data['year'] = data['date'].dt.year\n",
    "\n",
    "# Sales Target\n",
    "sales_target['date'] = pd.to_datetime(sales_target['date'])\n",
    "sales_target['month'] = sales_target['date'].dt.strftime('%b')\n",
    "sales_target['year'] = sales_target['date'].dt.year\n",
    "\n",
    "# Ad Budget\n",
    "ad_budget['date'] = pd.to_datetime(ad_budget['date'])\n",
    "ad_budget['month'] = ad_budget['date'].dt.strftime('%b')\n",
    "ad_budget['year'] = ad_budget['date'].dt.year\n"
   ]
  },
  {
   "cell_type": "code",
   "execution_count": 36,
   "id": "3dec46b4-1bcc-4b41-a17b-9aaf58819dfa",
   "metadata": {},
   "outputs": [],
   "source": [
    "# Merge 1: sales_target on ['month', 'year']\n",
    "data = pd.merge(data, sales_target[['month', 'year', 'sales_target']], on=['month', 'year'], how='left')\n",
    "\n",
    "# Merge 2: ad_budget on ['month', 'year']\n",
    "data = pd.merge(data, ad_budget[['month', 'year', 'ad_budget']], on=['month', 'year'], how='left')\n",
    "\n",
    "# Merge 3: impression_cost on ['year', 'platform']\n",
    "data = pd.merge(data, impression_cost, on=['year', 'platform'], how='left')\n",
    "\n",
    "# Merge 4: click_cost on ['year', 'platform']\n",
    "data = pd.merge(data, click_cost, on=['year', 'platform'], how='left')\n"
   ]
  },
  {
   "cell_type": "code",
   "execution_count": 37,
   "id": "843d3960-7ffe-4cf5-95ed-4f6054c6850d",
   "metadata": {},
   "outputs": [
    {
     "data": {
      "text/plain": [
       "Index(['date', 'month', 'year', 'ad_campaign', 'display_ads', 'overlay_ads',\n",
       "       'skippable_ads', 'nonskippable_ads', 'bumper_ads', 'platform',\n",
       "       'avg_pages_visited', 'avg_time_on_site_mins', 'impressions', 'clicks',\n",
       "       'conversions', 'quantity_sold', 'unit_cost_price', 'unit_sale_price',\n",
       "       'final_cost_price', 'final_sale_price', 'sales_target', 'ad_budget',\n",
       "       'cost_per_1000_impression_cpm', 'cost_per_click_cpc'],\n",
       "      dtype='object')"
      ]
     },
     "execution_count": 37,
     "metadata": {},
     "output_type": "execute_result"
    }
   ],
   "source": [
    "data.columns"
   ]
  },
  {
   "cell_type": "code",
   "execution_count": 38,
   "id": "89beebdc-afe9-46c1-a44e-af46f5b852fc",
   "metadata": {},
   "outputs": [
    {
     "name": "stdout",
     "output_type": "stream",
     "text": [
      "  month  year    platform  sales_target  ad_budget\n",
      "0   Jan  2017  platform a       1250000     600000\n",
      "1   Jan  2017  platform b       1250000     600000\n",
      "2   Jan  2017  platform c       1250000     600000\n",
      "3   Jan  2017  platform d       1250000     600000\n",
      "4   Feb  2017  platform a       1250000     600000\n"
     ]
    }
   ],
   "source": [
    "print(data[['month', 'year', 'platform', 'sales_target', 'ad_budget']].head())\n"
   ]
  },
  {
   "cell_type": "code",
   "execution_count": 39,
   "id": "fad2e47d-c6be-42b5-9996-c6e2486f28ec",
   "metadata": {},
   "outputs": [
    {
     "name": "stdout",
     "output_type": "stream",
     "text": [
      "date                            0\n",
      "month                           0\n",
      "year                            0\n",
      "ad_campaign                     0\n",
      "display_ads                     0\n",
      "overlay_ads                     0\n",
      "skippable_ads                   0\n",
      "nonskippable_ads                0\n",
      "bumper_ads                      0\n",
      "platform                        0\n",
      "avg_pages_visited               0\n",
      "avg_time_on_site_mins           0\n",
      "impressions                     0\n",
      "clicks                          0\n",
      "conversions                     0\n",
      "quantity_sold                   0\n",
      "unit_cost_price                 0\n",
      "unit_sale_price                 0\n",
      "final_cost_price                0\n",
      "final_sale_price                0\n",
      "sales_target                    0\n",
      "ad_budget                       0\n",
      "cost_per_1000_impression_cpm    0\n",
      "cost_per_click_cpc              0\n",
      "dtype: int64\n"
     ]
    }
   ],
   "source": [
    "print(data.isnull().sum())\n"
   ]
  },
  {
   "cell_type": "code",
   "execution_count": 40,
   "id": "398f1c94-187b-41e7-85ed-353eef9ecc75",
   "metadata": {},
   "outputs": [
    {
     "name": "stdout",
     "output_type": "stream",
     "text": [
      "['platform a' 'platform b' 'platform c' 'platform d']\n",
      "['campaign 1' 'campaign 2' 'campaign 3']\n"
     ]
    }
   ],
   "source": [
    "print(data['platform'].unique())\n",
    "print(data['ad_campaign'].unique())"
   ]
  },
  {
   "cell_type": "code",
   "execution_count": 41,
   "id": "788992d5-ea0b-4a9b-86fb-0db2f8c485b5",
   "metadata": {},
   "outputs": [
    {
     "name": "stdout",
     "output_type": "stream",
     "text": [
      "Total Sales: 113329974.745\n"
     ]
    }
   ],
   "source": [
    "# 1.1 Total Sales across all campaigns and platforms\n",
    "total_sales = data['final_sale_price'].sum()\n",
    "print(\"Total Sales:\", total_sales)"
   ]
  },
  {
   "cell_type": "code",
   "execution_count": 42,
   "id": "cdb48817-bd83-4f71-84ba-6dcdb7d1eb48",
   "metadata": {},
   "outputs": [
    {
     "name": "stdout",
     "output_type": "stream",
     "text": [
      "Campaign-wise Sales:\n",
      " ad_campaign\n",
      "campaign 3    4.535836e+07\n",
      "campaign 1    3.683235e+07\n",
      "campaign 2    3.113927e+07\n",
      "Name: final_sale_price, dtype: float64\n"
     ]
    }
   ],
   "source": [
    "# 1.2 Campaign-wise total sales\n",
    "campaign_sales = data.groupby('ad_campaign')['final_sale_price'].sum().sort_values(ascending=False)\n",
    "print(\"Campaign-wise Sales:\\n\", campaign_sales)"
   ]
  },
  {
   "cell_type": "code",
   "execution_count": 43,
   "id": "22c2e1f6-5628-4e04-8d22-b20f9dc02440",
   "metadata": {},
   "outputs": [
    {
     "name": "stdout",
     "output_type": "stream",
     "text": [
      "Platform-wise Sales:\n",
      " platform\n",
      "platform a    4.327159e+07\n",
      "platform d    3.127571e+07\n",
      "platform c    2.271875e+07\n",
      "platform b    1.606392e+07\n",
      "Name: final_sale_price, dtype: float64\n"
     ]
    }
   ],
   "source": [
    "\n",
    "# 1.3 Platform-wise total sales\n",
    "platform_sales = data.groupby('platform')['final_sale_price'].sum().sort_values(ascending=False)\n",
    "print(\"Platform-wise Sales:\\n\", platform_sales)"
   ]
  },
  {
   "cell_type": "code",
   "execution_count": 44,
   "id": "e016ebfa-f696-4d8d-b2e7-4bc8d341ded5",
   "metadata": {},
   "outputs": [
    {
     "name": "stdout",
     "output_type": "stream",
     "text": [
      "Total Cost Range: 45500.0 to 625560.0\n"
     ]
    }
   ],
   "source": [
    "# 2.1 Total cost range\n",
    "min_cost = data['final_cost_price'].min()\n",
    "max_cost = data['final_cost_price'].max()\n",
    "print(f\"Total Cost Range: {min_cost} to {max_cost}\")"
   ]
  },
  {
   "cell_type": "code",
   "execution_count": 45,
   "id": "e55ea277-0301-4c39-9b73-5e10d8cd2bda",
   "metadata": {},
   "outputs": [
    {
     "name": "stdout",
     "output_type": "stream",
     "text": [
      "Total Profit: 77493077.285\n"
     ]
    }
   ],
   "source": [
    "\n",
    "# 2.2 Total profit = Sales - Cost\n",
    "data['profit'] = data['final_sale_price'] - data['final_cost_price']\n",
    "total_profit = data['profit'].sum()\n",
    "print(\"Total Profit:\", total_profit)"
   ]
  },
  {
   "cell_type": "code",
   "execution_count": 46,
   "id": "11cb5d93-1f91-46bc-8eb1-74f3a97dcadb",
   "metadata": {},
   "outputs": [
    {
     "name": "stdout",
     "output_type": "stream",
     "text": [
      "Platform-wise Profit:\n",
      " platform\n",
      "platform a    2.960052e+07\n",
      "platform d    2.138575e+07\n",
      "platform c    1.552434e+07\n",
      "platform b    1.098247e+07\n",
      "Name: profit, dtype: float64\n"
     ]
    }
   ],
   "source": [
    "\n",
    "# 2.3 Platform-wise profit\n",
    "platform_profit = data.groupby('platform')['profit'].sum().sort_values(ascending=False)\n",
    "print(\"Platform-wise Profit:\\n\", platform_profit)"
   ]
  },
  {
   "cell_type": "code",
   "execution_count": 47,
   "id": "395a035a-d6ac-4e9d-89de-b0a9bbd9b472",
   "metadata": {},
   "outputs": [
    {
     "name": "stdout",
     "output_type": "stream",
     "text": [
      "Campaign & Platform Effectiveness:\n",
      "                         final_sale_price        profit\n",
      "ad_campaign platform                                  \n",
      "campaign 3  platform a      1.711820e+07  1.170459e+07\n",
      "            platform d      1.560385e+07  1.066955e+07\n",
      "campaign 1  platform a      1.392289e+07  9.526760e+06\n",
      "campaign 2  platform a      1.223050e+07  8.369172e+06\n",
      "campaign 1  platform d      8.726145e+06  5.965389e+06\n",
      "campaign 3  platform c      8.239051e+06  5.626486e+06\n",
      "campaign 1  platform c      7.934756e+06  5.421004e+06\n",
      "campaign 2  platform d      6.945716e+06  4.750814e+06\n",
      "            platform c      6.544943e+06  4.476848e+06\n",
      "campaign 1  platform b      6.248564e+06  4.280089e+06\n",
      "campaign 2  platform b      5.418111e+06  3.699381e+06\n",
      "campaign 3  platform b      4.397250e+06  3.003000e+06\n"
     ]
    }
   ],
   "source": [
    "# 3.1 Combined performance: campaign and platform\n",
    "performance = data.groupby(['ad_campaign', 'platform'])[['final_sale_price', 'profit']].sum().sort_values(by='profit', ascending=False)\n",
    "print(\"Campaign & Platform Effectiveness:\\n\", performance)"
   ]
  },
  {
   "cell_type": "code",
   "execution_count": 48,
   "id": "913e750f-a864-40a2-af21-b5c056e916bd",
   "metadata": {},
   "outputs": [
    {
     "name": "stdout",
     "output_type": "stream",
     "text": [
      "Total Sales: 113329974.745, Total Target: 314400000\n"
     ]
    }
   ],
   "source": [
    "# 4. Total sales vs total sales target\n",
    "total_sales = data['final_sale_price'].sum()\n",
    "total_target = data['sales_target'].sum()\n",
    "print(f\"Total Sales: {total_sales}, Total Target: {total_target}\")"
   ]
  },
  {
   "cell_type": "code",
   "execution_count": 49,
   "id": "a5e325db-75a6-4b69-9450-b839ff2c35e9",
   "metadata": {},
   "outputs": [
    {
     "name": "stdout",
     "output_type": "stream",
     "text": [
      "Monthly Sales Trends:\n",
      "     year month  final_sale_price\n",
      "0   2017   Apr       1322919.000\n",
      "1   2017   Aug       1029600.000\n",
      "2   2017   Dec       2223000.000\n",
      "3   2017   Feb       1826065.800\n",
      "4   2017   Jan       1441229.400\n",
      "5   2017   Jul       1125306.000\n",
      "6   2017   Jun       1324931.400\n",
      "7   2017   Mar       1445096.250\n",
      "8   2017   May       1216800.000\n",
      "9   2017   Nov       1778400.000\n",
      "10  2017   Oct       1965600.000\n",
      "11  2017   Sep       1836900.000\n",
      "12  2018   Apr       2209759.500\n",
      "13  2018   Aug       1815490.625\n",
      "14  2018   Dec       2990000.000\n",
      "15  2018   Feb       2084030.000\n",
      "16  2018   Jan       1872936.000\n",
      "17  2018   Jul       1918085.000\n",
      "18  2018   Jun       2086197.750\n",
      "19  2018   Mar       3152349.525\n",
      "20  2018   May       1485013.400\n",
      "21  2018   Nov       3034850.000\n",
      "22  2018   Oct       1883700.000\n",
      "23  2018   Sep       2526550.000\n",
      "24  2019   Apr       1756805.700\n",
      "25  2019   Aug       2247700.000\n",
      "26  2019   Dec       2343945.500\n",
      "27  2019   Feb       2938605.800\n",
      "28  2019   Jan       1959512.750\n",
      "29  2019   Jul       1763008.000\n",
      "30  2019   Jun       1791400.000\n",
      "31  2019   Mar       2565555.200\n",
      "32  2019   May       2203334.120\n",
      "33  2019   Nov       3312400.000\n",
      "34  2019   Oct       3118050.000\n",
      "35  2019   Sep       2687100.000\n",
      "36  2020   Apr       2444739.050\n",
      "37  2020   Aug       3128408.400\n",
      "38  2020   Dec       4291950.000\n",
      "39  2020   Feb       3554963.750\n",
      "40  2020   Jan       3482423.750\n",
      "41  2020   Jul       3339580.400\n",
      "42  2020   Jun       2580812.000\n",
      "43  2020   Mar       2775360.250\n",
      "44  2020   May       2083600.675\n",
      "45  2020   Nov       4702607.000\n",
      "46  2020   Oct       3163550.000\n",
      "47  2020   Sep       3499752.750\n"
     ]
    }
   ],
   "source": [
    "# 5.1 Monthly sales trend\n",
    "monthly_sales = data.groupby(['year', 'month'])['final_sale_price'].sum().reset_index()\n",
    "print(\"Monthly Sales Trends:\\n\", monthly_sales)"
   ]
  },
  {
   "cell_type": "code",
   "execution_count": 50,
   "id": "9fb7821e-563b-4f42-af36-5cbf2d33c41b",
   "metadata": {},
   "outputs": [
    {
     "name": "stdout",
     "output_type": "stream",
     "text": [
      "Monthly Quantity Sold:\n",
      "     year month  quantity_sold\n",
      "0   2017   Apr      7349.5500\n",
      "1   2017   Aug      5720.0000\n",
      "2   2017   Dec     12350.0000\n",
      "3   2017   Feb     10144.8100\n",
      "4   2017   Jan      8006.8300\n",
      "5   2017   Jul      6251.7000\n",
      "6   2017   Jun      7360.7300\n",
      "7   2017   Mar      8028.3125\n",
      "8   2017   May      6760.0000\n",
      "9   2017   Nov      9880.0000\n",
      "10  2017   Oct     10920.0000\n",
      "11  2017   Sep     10205.0000\n",
      "12  2018   Apr      9607.6500\n",
      "13  2018   Aug      7893.4375\n",
      "14  2018   Dec     13000.0000\n",
      "15  2018   Feb      9061.0000\n",
      "16  2018   Jan      8143.2000\n",
      "17  2018   Jul      8339.5000\n",
      "18  2018   Jun      9070.4250\n",
      "19  2018   Mar     13705.8675\n",
      "20  2018   May      6456.5800\n",
      "21  2018   Nov     13195.0000\n",
      "22  2018   Oct      8190.0000\n",
      "23  2018   Sep     10985.0000\n",
      "24  2019   Apr      6756.9450\n",
      "25  2019   Aug      8645.0000\n",
      "26  2019   Dec      9015.1750\n",
      "27  2019   Feb     11302.3300\n",
      "28  2019   Jan      7536.5875\n",
      "29  2019   Jul      6780.8000\n",
      "30  2019   Jun      6890.0000\n",
      "31  2019   Mar      9867.5200\n",
      "32  2019   May      8474.3620\n",
      "33  2019   Nov     12740.0000\n",
      "34  2019   Oct     11992.5000\n",
      "35  2019   Sep     10335.0000\n",
      "36  2020   Apr      7886.2550\n",
      "37  2020   Aug     10091.6400\n",
      "38  2020   Dec     13845.0000\n",
      "39  2020   Feb     11467.6250\n",
      "40  2020   Jan     11233.6250\n",
      "41  2020   Jul     10772.8400\n",
      "42  2020   Jun      8325.2000\n",
      "43  2020   Mar      8952.7750\n",
      "44  2020   May      6721.2925\n",
      "45  2020   Nov     15169.7000\n",
      "46  2020   Oct     10205.0000\n",
      "47  2020   Sep     11289.5250\n"
     ]
    }
   ],
   "source": [
    "# 6.1 Quantity trend over time\n",
    "quantity_trend = data.groupby(['year', 'month'])['quantity_sold'].sum().reset_index()\n",
    "print(\"Monthly Quantity Sold:\\n\", quantity_trend)"
   ]
  },
  {
   "cell_type": "code",
   "execution_count": 51,
   "id": "7dfdb5e8-4d4e-4ee6-acc8-6e3b1d3b3a3c",
   "metadata": {},
   "outputs": [],
   "source": [
    "#Export the Merged DataFrame to a CSV File\n",
    "data.to_csv(\"cleaned_merged_data.csv\", index=False)"
   ]
  },
  {
   "cell_type": "code",
   "execution_count": null,
   "id": "019a8cc3-b740-46a7-bd43-d9daac561cba",
   "metadata": {},
   "outputs": [],
   "source": []
  }
 ],
 "metadata": {
  "kernelspec": {
   "display_name": "Python 3 (ipykernel)",
   "language": "python",
   "name": "python3"
  },
  "language_info": {
   "codemirror_mode": {
    "name": "ipython",
    "version": 3
   },
   "file_extension": ".py",
   "mimetype": "text/x-python",
   "name": "python",
   "nbconvert_exporter": "python",
   "pygments_lexer": "ipython3",
   "version": "3.12.7"
  }
 },
 "nbformat": 4,
 "nbformat_minor": 5
}
